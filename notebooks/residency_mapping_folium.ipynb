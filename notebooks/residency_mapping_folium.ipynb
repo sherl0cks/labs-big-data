{
 "cells": [
  {
   "cell_type": "markdown",
   "metadata": {},
   "source": [
    "# Mapping Open Innovation Labs Residencies\n",
    "\n",
    "This is an experiment to learn [Leaflet](http://leafletjs.com/) embedded in Jupyter via the [folium](https://github.com/python-visualization/folium). It makes use of [GeoJSON](http://leafletjs.com/examples/geojson/). Future versions of this experiment will serve the GeoJSON from [GeoServer](http://geoserver.org/). \n",
    "\n",
    "I'm making extensive use of the [examples](https://github.com/python-visualization/folium/tree/master/examples)\n",
    "\n",
    "\n",
    "## Known Issues\n",
    "\n",
    "none so far, looks solid\n"
   ]
  },
  {
   "cell_type": "markdown",
   "metadata": {},
   "source": [
    "### First, Download the Data\n",
    "\n",
    "This will move to GeoServer in the future"
   ]
  },
  {
   "cell_type": "markdown",
   "metadata": {},
   "source": [
    "%%bash \n",
    "rm residencies.geo.json\n",
    "curl -O https://raw.githubusercontent.com/sherl0cks/labs-big-data/master/notebooks/data/residencies.geo.json"
   ]
  },
  {
   "cell_type": "markdown",
   "metadata": {},
   "source": [
    "### Then Create The Map\n",
    "\n",
    "This is making use of GeoJSON's flexible `properties` to provide interesting data about a residency, and then translate that info, plus the coordinates, to [Leaflet Markers](http://leafletjs.com/examples/quick-start/)."
   ]
  },
  {
   "cell_type": "code",
   "execution_count": null,
   "metadata": {},
   "outputs": [],
   "source": [
    "import folium\n",
    "import json\n",
    "import os\n",
    "\n",
    "from folium.plugins import MarkerCluster\n",
    "\n",
    "\n",
    "# could generate html here which would allow for new lines\n",
    "def create_popup_text(feature):\n",
    "    popup = f['properties']['customer']\n",
    "    popup += \"\\n\\n\\n\"\n",
    "    popup += f['properties']['residencyType'] \n",
    "    popup += ' residency at a '\n",
    "    popup += f['properties']['facilityType']\n",
    "    popup += ' facility'\n",
    "    if 'residencyFocus' in f['properties']:\n",
    "        popup += ' focused on '\n",
    "        popup += f['properties']['residencyFocus']\n",
    "    if 'technologies' in f['properties']:\n",
    "        popup += ' using '\n",
    "        popup += f['properties']['technologies']\n",
    "    return popup\n",
    "\n",
    "# This is more along the lines of the school mapping use case\n",
    "def create_circle_markers(feature):\n",
    "    return folium.CircleMarker(\n",
    "        location=f['geometry']['coordinates'], \n",
    "        popup=folium.Popup(html=create_popup_text(f)),\n",
    "        fill=True,\n",
    "        radius=8\n",
    "    )\n",
    " \n",
    "# This looks better for our use case\n",
    "def create_markers(feature):\n",
    "    return folium.Marker(\n",
    "        location=f['geometry']['coordinates'], \n",
    "        popup=folium.Popup(html=create_popup_text(f))\n",
    "    )\n",
    "\n",
    "\n",
    "m = folium.Map(\n",
    "    location=[0, 0],\n",
    "    zoom_start=2,\n",
    "    # https://github.com/ellisonbg/ipyleaflet/blob/master/ipyleaflet/leaflet.py#L104\n",
    "    tiles='http://server.arcgisonline.com/ArcGIS/rest/services/World_Imagery/MapServer/tile/{z}/{y}/{x}',\n",
    "    attr='Tiles &copy; Esri &mdash; Source: Esri, i-cubed, USDA, USGS, AEX, GeoEye, Getmapping, Aerogrid, IGN, IGP, UPR-EGP, and the GIS User Community'\n",
    ")\n",
    "\n",
    "marker_cluster = MarkerCluster().add_to(m)\n",
    "\n",
    "with open('./residencies.geo.json') as f:\n",
    "    data = json.load(f)\n",
    "\n",
    "for f in data['features']:\n",
    "    create_circle_markers(f).add_to(marker_cluster)\n",
    "\n",
    "m"
   ]
  },
  {
   "cell_type": "code",
   "execution_count": null,
   "metadata": {},
   "outputs": [],
   "source": []
  }
 ],
 "metadata": {
  "kernelspec": {
   "display_name": "Python 3",
   "language": "python",
   "name": "python3"
  },
  "language_info": {
   "codemirror_mode": {
    "name": "ipython",
    "version": 3
   },
   "file_extension": ".py",
   "mimetype": "text/x-python",
   "name": "python",
   "nbconvert_exporter": "python",
   "pygments_lexer": "ipython3",
   "version": "3.6.3"
  }
 },
 "nbformat": 4,
 "nbformat_minor": 2
}
