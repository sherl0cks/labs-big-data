{
 "cells": [
  {
   "cell_type": "markdown",
   "metadata": {},
   "source": [
    "# Mapping Open Innovation Labs Residencies\n",
    "\n",
    "This is an experiment to learn [Leaflet](http://leafletjs.com/) embedded in Jupyter via the [ipyleaflet widget](https://github.com/ellisonbg/ipyleaflet). It makes use of [GeoJSON](http://leafletjs.com/examples/geojson/). Future versions of this experiment will serve the GeoJSON from [GeoServer](http://geoserver.org/). \n",
    "\n",
    "I'm making extensive use of the [ipyleaflet examples](https://github.com/ellisonbg/ipyleaflet/tree/master/examples)\n",
    "\n",
    "\n",
    "## Known Issues\n",
    "\n",
    "1. Currently `attribution_control` is set to `False` because the attributions seems to pile up when adding the layers, which makese the LayerControl unusable\n",
    "2. [Popups](http://leafletjs.com/examples/geojson/) are currently not supported according to [issue 25](https://github.com/ellisonbg/ipyleaflet/issues/25) and [issue 54](https://github.com/ellisonbg/ipyleaflet/issues/54). This a significant limitation. There is WIP to provide the feature in [this PR](https://github.com/ellisonbg/ipyleaflet/pull/26/)\n"
   ]
  },
  {
   "cell_type": "markdown",
   "metadata": {},
   "source": [
    "### Fit the Notebook to Your Screen.\n",
    "\n",
    "The below cell will update the `css` to fit the notebook to the width of your browser window. This is optional."
   ]
  },
  {
   "cell_type": "code",
   "execution_count": null,
   "metadata": {},
   "outputs": [],
   "source": [
    "from IPython.core.display import display, HTML\n",
    "display(HTML(\"<style>.container { width:100% !important; }</style>\"))"
   ]
  },
  {
   "cell_type": "markdown",
   "metadata": {},
   "source": [
    "### Create the Base Map"
   ]
  },
  {
   "cell_type": "code",
   "execution_count": null,
   "metadata": {},
   "outputs": [],
   "source": [
    "from ipyleaflet import *\n",
    "\n",
    "m = Map(zoom=2, scroll_wheel_zoom=True, basemap=basemaps.Esri.WorldImagery, attribution_control=False)\n",
    "\n",
    "# add a controller to enable drawing\n",
    "m.add_control(DrawControl())\n",
    "\n",
    "\n",
    "# make the widget taller https://github.com/ellisonbg/ipyleaflet/issues/64\n",
    "m.layout.height='600px'\n",
    "\n",
    "# display the map\n",
    "m"
   ]
  },
  {
   "cell_type": "markdown",
   "metadata": {},
   "source": [
    "### Create Leaflet Markers for Residency Locations with GeoJSON\n",
    "\n",
    "First, we'll use a simple bash script to download the data from [github](https://github.com/sherl0cks/labs-big-data/tree/master/notebooks/data)\n",
    "\n",
    "Then, we'll load it up into Leaflet."
   ]
  },
  {
   "cell_type": "code",
   "execution_count": null,
   "metadata": {},
   "outputs": [],
   "source": [
    "%%bash \n",
    "\n",
    "curl -O https://raw.githubusercontent.com/sherl0cks/labs-big-data/master/notebooks/data/residencies.geojson"
   ]
  },
  {
   "cell_type": "code",
   "execution_count": null,
   "metadata": {},
   "outputs": [],
   "source": [
    "import json\n",
    "\n",
    "with open('./residencies.geojson') as f:\n",
    "    data = json.load(f)\n",
    "\n",
    "geo = GeoJSON(data=data,  name='Residency Locations')\n",
    "m.add_layer(geo)"
   ]
  },
  {
   "cell_type": "markdown",
   "metadata": {},
   "source": [
    "### Add Layers for the Different Basemaps\n",
    "\n",
    "This will create a controller on the left to select various different baselayers. Try them out!"
   ]
  },
  {
   "cell_type": "code",
   "execution_count": null,
   "metadata": {
    "scrolled": false
   },
   "outputs": [],
   "source": [
    "m.add_layer( basemap_to_tiles(basemaps.CartoDB.DarkMatter) )\n",
    "m.add_layer( basemap_to_tiles(basemaps.CartoDB.Positron) )\n",
    "\n",
    "m.add_layer( basemap_to_tiles(basemaps.HikeBike.HikeBike) )\n",
    "\n",
    "m.add_layer( basemap_to_tiles(basemaps.Hydda.Base) )\n",
    "m.add_layer( basemap_to_tiles(basemaps.Hydda.Full) )\n",
    "\n",
    "m.add_layer( basemap_to_tiles(basemaps.MtbMap) )\n",
    "\n",
    "m.add_layer( basemap_to_tiles(basemaps.NASAGIBS.ModisAquaBands721CR) )\n",
    "m.add_layer( basemap_to_tiles(basemaps.NASAGIBS.ModisAquaTrueColorCR) )\n",
    "m.add_layer( basemap_to_tiles(basemaps.NASAGIBS.ModisTerraBands367CR) )\n",
    "m.add_layer( basemap_to_tiles(basemaps.NASAGIBS.ModisTerraBands721CR) )\n",
    "m.add_layer( basemap_to_tiles(basemaps.NASAGIBS.ModisTerraTrueColorCR) )\n",
    "m.add_layer( basemap_to_tiles(basemaps.NASAGIBS.ViirsEarthAtNight2012) )\n",
    "\n",
    "m.add_layer( basemap_to_tiles(basemaps.OpenMapSurfer.Grayscale) )\n",
    "m.add_layer( basemap_to_tiles(basemaps.OpenMapSurfer.Roads) )\n",
    "\n",
    "m.add_layer( basemap_to_tiles(basemaps.OpenStreetMap.BlackAndWhite) )\n",
    "m.add_layer( basemap_to_tiles(basemaps.OpenStreetMap.DE) )\n",
    "m.add_layer( basemap_to_tiles(basemaps.OpenStreetMap.France) )\n",
    "m.add_layer( basemap_to_tiles(basemaps.OpenStreetMap.HOT) )\n",
    "m.add_layer( basemap_to_tiles(basemaps.OpenStreetMap.Mapnik) )\n",
    "\n",
    "m.add_layer( basemap_to_tiles(basemaps.OpenTopoMap) )\n",
    "\n",
    "m.add_layer( basemap_to_tiles(basemaps.Stamen.Terrain) )\n",
    "\n",
    "m.add_layer( basemap_to_tiles(basemaps.Esri.DeLorme) )\n",
    "m.add_layer( basemap_to_tiles(basemaps.Esri.NatGeoWorldMap) )\n",
    "m.add_layer( basemap_to_tiles(basemaps.Esri.WorldStreetMap) )\n",
    "m.add_layer( basemap_to_tiles(basemaps.Esri.WorldTopoMap) )\n",
    "\n",
    "# last one will be the one set\n",
    "m.add_layer( basemap_to_tiles(basemaps.Esri.WorldImagery) )\n",
    "\n",
    "# add a controller to select active layers\n",
    "m.add_control(LayersControl())"
   ]
  }
 ],
 "metadata": {
  "kernelspec": {
   "display_name": "Python 3",
   "language": "python",
   "name": "python3"
  },
  "language_info": {
   "codemirror_mode": {
    "name": "ipython",
    "version": 3
   },
   "file_extension": ".py",
   "mimetype": "text/x-python",
   "name": "python",
   "nbconvert_exporter": "python",
   "pygments_lexer": "ipython3",
   "version": "3.6.3"
  }
 },
 "nbformat": 4,
 "nbformat_minor": 2
}
